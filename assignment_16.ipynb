{
 "cells": [
  {
   "cell_type": "raw",
   "id": "b5649286",
   "metadata": {},
   "source": [
    "1. Create a list called years_list, starting with the year of your birth, and each year thereafter until the year of your\n",
    "fifth birthday. For example, if you were born in 1980. the list would be years_list = [1980, 1981, 1982, 1983, 1984, 1985]."
   ]
  },
  {
   "cell_type": "code",
   "execution_count": 1,
   "id": "68559d2b",
   "metadata": {},
   "outputs": [],
   "source": [
    "year_list = [1993,1994,1995,1996,1997,1998]"
   ]
  },
  {
   "cell_type": "raw",
   "id": "d35ca31a",
   "metadata": {},
   "source": [
    "2. In which year in years_list was your third birthday? Remember, you were 0 years of age for your first year."
   ]
  },
  {
   "cell_type": "code",
   "execution_count": 2,
   "id": "f946e58d",
   "metadata": {},
   "outputs": [
    {
     "data": {
      "text/plain": [
       "1996"
      ]
     },
     "execution_count": 2,
     "metadata": {},
     "output_type": "execute_result"
    }
   ],
   "source": [
    "year_list[3]"
   ]
  },
  {
   "cell_type": "raw",
   "id": "f8005ad2",
   "metadata": {},
   "source": [
    "3.In the years list, which year were you the oldest?"
   ]
  },
  {
   "cell_type": "code",
   "execution_count": 3,
   "id": "41568ecc",
   "metadata": {},
   "outputs": [
    {
     "data": {
      "text/plain": [
       "1998"
      ]
     },
     "execution_count": 3,
     "metadata": {},
     "output_type": "execute_result"
    }
   ],
   "source": [
    "max(year_list)"
   ]
  },
  {
   "cell_type": "raw",
   "id": "767ff879",
   "metadata": {},
   "source": [
    "4. Make a list called things with these three strings as elements: \"mozzarella\", \"cinderella\", \"salmonella\"."
   ]
  },
  {
   "cell_type": "code",
   "execution_count": 4,
   "id": "354d0296",
   "metadata": {},
   "outputs": [],
   "source": [
    "things = [\"mozzarella\", \"cinderella\", \"salmonella\"]"
   ]
  },
  {
   "cell_type": "raw",
   "id": "3b0e465d",
   "metadata": {},
   "source": [
    "5. Capitalize the element in things that refers to a person and then print the list. Did it change the element in the list?\n",
    "\n",
    "Ans - no"
   ]
  },
  {
   "cell_type": "code",
   "execution_count": 5,
   "id": "4aa09d42",
   "metadata": {},
   "outputs": [
    {
     "data": {
      "text/plain": [
       "'Cinderella'"
      ]
     },
     "execution_count": 5,
     "metadata": {},
     "output_type": "execute_result"
    }
   ],
   "source": [
    "things[1].capitalize()"
   ]
  },
  {
   "cell_type": "code",
   "execution_count": 6,
   "id": "fd768afe",
   "metadata": {},
   "outputs": [
    {
     "data": {
      "text/plain": [
       "['mozzarella', 'cinderella', 'salmonella']"
      ]
     },
     "execution_count": 6,
     "metadata": {},
     "output_type": "execute_result"
    }
   ],
   "source": [
    "things"
   ]
  },
  {
   "cell_type": "raw",
   "id": "47ee4540",
   "metadata": {},
   "source": [
    "6. Make a surprise list with the elements \"Groucho,\" \"Chico,\" and \"Harpo.\""
   ]
  },
  {
   "cell_type": "code",
   "execution_count": 7,
   "id": "ad5ee464",
   "metadata": {},
   "outputs": [],
   "source": [
    "surprise = [\"Groucho\", \"Chico\", \"Harpo\"]"
   ]
  },
  {
   "cell_type": "raw",
   "id": "fbdf1adf",
   "metadata": {},
   "source": [
    "7. Lowercase the last element of the surprise list, reverse it, and then capitalize it."
   ]
  },
  {
   "cell_type": "code",
   "execution_count": 8,
   "id": "383d114d",
   "metadata": {},
   "outputs": [
    {
     "data": {
      "text/plain": [
       "['Groucho', 'Chico', 'harpo']"
      ]
     },
     "execution_count": 8,
     "metadata": {},
     "output_type": "execute_result"
    }
   ],
   "source": [
    "surprise[-1] = surprise[-1].lower()\n",
    "surprise"
   ]
  },
  {
   "cell_type": "code",
   "execution_count": 9,
   "id": "ed16f1dd",
   "metadata": {},
   "outputs": [
    {
     "data": {
      "text/plain": [
       "['Groucho', 'Chico', 'oprah']"
      ]
     },
     "execution_count": 9,
     "metadata": {},
     "output_type": "execute_result"
    }
   ],
   "source": [
    "surprise[-1] = surprise[-1][::-1]\n",
    "surprise"
   ]
  },
  {
   "cell_type": "code",
   "execution_count": 10,
   "id": "51668456",
   "metadata": {},
   "outputs": [
    {
     "data": {
      "text/plain": [
       "['Groucho', 'Chico', 'OPRAH']"
      ]
     },
     "execution_count": 10,
     "metadata": {},
     "output_type": "execute_result"
    }
   ],
   "source": [
    "surprise[-1] = surprise[-1].upper()\n",
    "surprise"
   ]
  },
  {
   "cell_type": "raw",
   "id": "bf81fa4a",
   "metadata": {},
   "source": [
    "8. Make an English-to-French dictionary called e2f and print it. Here are your starter words: dog is chien, cat is chat, \n",
    "    and walrus is morse.\n"
   ]
  },
  {
   "cell_type": "code",
   "execution_count": 11,
   "id": "501519b3",
   "metadata": {},
   "outputs": [],
   "source": [
    "e2f = {\n",
    "    'dog':'chien',\n",
    "    'cat':'chat',\n",
    "    'walrus': 'morse'\n",
    "}"
   ]
  },
  {
   "cell_type": "raw",
   "id": "5c95edb1",
   "metadata": {},
   "source": [
    "9. Write the French word for walrus in your three-word dictionary e2f."
   ]
  },
  {
   "cell_type": "code",
   "execution_count": 12,
   "id": "ff4604e7",
   "metadata": {},
   "outputs": [
    {
     "data": {
      "text/plain": [
       "'morse'"
      ]
     },
     "execution_count": 12,
     "metadata": {},
     "output_type": "execute_result"
    }
   ],
   "source": [
    "e2f['walrus']"
   ]
  },
  {
   "cell_type": "raw",
   "id": "a90caf1c",
   "metadata": {},
   "source": [
    "10. Make a French-to-English dictionary called f2e from e2f. Use the items method."
   ]
  },
  {
   "cell_type": "code",
   "execution_count": 13,
   "id": "a110dbcc",
   "metadata": {},
   "outputs": [
    {
     "name": "stdout",
     "output_type": "stream",
     "text": [
      "{'chien': 'dog', 'chat': 'cat', 'morse': 'walrus'}\n"
     ]
    }
   ],
   "source": [
    "f2e = {}\n",
    "for k,v in e2f.items():\n",
    "    f2e[v] = k\n",
    "print(f2e)"
   ]
  },
  {
   "cell_type": "raw",
   "id": "9c83e166",
   "metadata": {},
   "source": [
    "11. Print the English version of the French word chien using f2e."
   ]
  },
  {
   "cell_type": "code",
   "execution_count": 14,
   "id": "5ceb5c56",
   "metadata": {},
   "outputs": [
    {
     "data": {
      "text/plain": [
       "'dog'"
      ]
     },
     "execution_count": 14,
     "metadata": {},
     "output_type": "execute_result"
    }
   ],
   "source": [
    "f2e['chien']"
   ]
  },
  {
   "cell_type": "raw",
   "id": "236e5dbe",
   "metadata": {},
   "source": [
    "12. Make and print a set of English words from the keys in e2f."
   ]
  },
  {
   "cell_type": "code",
   "execution_count": 15,
   "id": "6a134409",
   "metadata": {},
   "outputs": [
    {
     "name": "stdout",
     "output_type": "stream",
     "text": [
      "dog\n",
      "cat\n",
      "walrus\n"
     ]
    }
   ],
   "source": [
    "for k in e2f.keys():\n",
    "    print(k)"
   ]
  },
  {
   "cell_type": "raw",
   "id": "b92943ab",
   "metadata": {},
   "source": [
    "13. Make a multilevel dictionary called life. Use these strings for the topmost keys: 'animals', 'plants', and 'other'. \n",
    "    Make the 'animals' key refer to another dictionary with the keys 'cats', 'octopi', and 'emus'. Make the 'cats' key\n",
    "    refer to a list of strings with the values 'Henri', 'Grumpy', and 'Lucy'. Make all the other keys refer to empty \n",
    "    dictionaries.\n"
   ]
  },
  {
   "cell_type": "code",
   "execution_count": 16,
   "id": "3cd5844d",
   "metadata": {},
   "outputs": [],
   "source": [
    "life = {\n",
    "    'animals' : {'cats': ['Henri', 'Grumpy', 'Lucy'],\n",
    "                 'octopi':{},\n",
    "                 'emus':{},\n",
    "    },\n",
    "    'plants' :{},\n",
    "    'other' :{}\n",
    "}"
   ]
  },
  {
   "cell_type": "raw",
   "id": "341360e3",
   "metadata": {},
   "source": [
    "14. Print the top-level keys of life."
   ]
  },
  {
   "cell_type": "code",
   "execution_count": 17,
   "id": "0d42fc10",
   "metadata": {},
   "outputs": [
    {
     "name": "stdout",
     "output_type": "stream",
     "text": [
      "animals\n",
      "plants\n",
      "other\n"
     ]
    }
   ],
   "source": [
    "for k in life.keys():\n",
    "    print(k)"
   ]
  },
  {
   "cell_type": "raw",
   "id": "0c253649",
   "metadata": {},
   "source": [
    "15. Print the keys for life['animals'].`"
   ]
  },
  {
   "cell_type": "code",
   "execution_count": 18,
   "id": "d63445cb",
   "metadata": {},
   "outputs": [
    {
     "name": "stdout",
     "output_type": "stream",
     "text": [
      "dict_keys(['cats', 'octopi', 'emus'])\n"
     ]
    }
   ],
   "source": [
    "for key,v in life.items():\n",
    "    if key == \"animals\":\n",
    "            print(v.keys())\n",
    "    else:\n",
    "        pass"
   ]
  },
  {
   "cell_type": "raw",
   "id": "7b863103",
   "metadata": {},
   "source": [
    "16. Print the values for life['animals']['cats']"
   ]
  },
  {
   "cell_type": "code",
   "execution_count": 19,
   "id": "844b5b1c",
   "metadata": {},
   "outputs": [
    {
     "name": "stdout",
     "output_type": "stream",
     "text": [
      "['Henri', 'Grumpy', 'Lucy']\n"
     ]
    }
   ],
   "source": [
    "for key,v in life.items():\n",
    "    if key == \"animals\":\n",
    "        for i,j in v.items():\n",
    "            if i == 'cats':\n",
    "                print(j)\n",
    "    else:\n",
    "        pass"
   ]
  }
 ],
 "metadata": {
  "kernelspec": {
   "display_name": "Python 3 (ipykernel)",
   "language": "python",
   "name": "python3"
  },
  "language_info": {
   "codemirror_mode": {
    "name": "ipython",
    "version": 3
   },
   "file_extension": ".py",
   "mimetype": "text/x-python",
   "name": "python",
   "nbconvert_exporter": "python",
   "pygments_lexer": "ipython3",
   "version": "3.9.7"
  }
 },
 "nbformat": 4,
 "nbformat_minor": 5
}
