{
 "cells": [
  {
   "cell_type": "raw",
   "id": "2283c354",
   "metadata": {},
   "source": [
    "1. Make a class called Thing with no contents and print it. Then, create an object called example from this class and also\n",
    "   print it. Are the printed values the same or different?\n",
    "\n",
    "Ans - Different"
   ]
  },
  {
   "cell_type": "code",
   "execution_count": 19,
   "id": "ed942ac4",
   "metadata": {},
   "outputs": [],
   "source": [
    "class Thing:\n",
    "    pass"
   ]
  },
  {
   "cell_type": "code",
   "execution_count": 22,
   "id": "d026317b",
   "metadata": {},
   "outputs": [
    {
     "name": "stdout",
     "output_type": "stream",
     "text": [
      "<class '__main__.Thing'>\n"
     ]
    }
   ],
   "source": [
    "print(Thing)"
   ]
  },
  {
   "cell_type": "code",
   "execution_count": 23,
   "id": "a9a22417",
   "metadata": {},
   "outputs": [
    {
     "name": "stdout",
     "output_type": "stream",
     "text": [
      "<__main__.called_Thing object at 0x000002519F6D70A0>\n"
     ]
    }
   ],
   "source": [
    "example = called_Thing()\n",
    "print(example)"
   ]
  },
  {
   "cell_type": "raw",
   "id": "afcd5797",
   "metadata": {},
   "source": [
    "2. Create a new class called Thing2 and add the value 'abc' to the letters class attribute. Letters should be printed."
   ]
  },
  {
   "cell_type": "code",
   "execution_count": 27,
   "id": "c21f4019",
   "metadata": {},
   "outputs": [],
   "source": [
    "class Thing2:\n",
    "    letters = 'abc'"
   ]
  },
  {
   "cell_type": "code",
   "execution_count": 28,
   "id": "f9059454",
   "metadata": {},
   "outputs": [
    {
     "data": {
      "text/plain": [
       "'abc'"
      ]
     },
     "execution_count": 28,
     "metadata": {},
     "output_type": "execute_result"
    }
   ],
   "source": [
    "Thing2.letters"
   ]
  },
  {
   "cell_type": "raw",
   "id": "f16ab707",
   "metadata": {},
   "source": [
    "3. Make yet another class called, of course, Thing3. This time, assign the value 'xyz' to an instance (object) attribute \n",
    "called letters. Print letters. Do you need to make an object from the class to do this?\n",
    "\n",
    "Ans - yes, we need to make an object from the class to do this as this attribute called letters belongs to the objects made \n",
    "for this class."
   ]
  },
  {
   "cell_type": "code",
   "execution_count": 31,
   "id": "a0e52267",
   "metadata": {},
   "outputs": [],
   "source": [
    "class thing3:\n",
    "    def __init__(self,letters):\n",
    "        self.letters = 'xyz'\n",
    "        "
   ]
  },
  {
   "cell_type": "raw",
   "id": "def9ceba",
   "metadata": {},
   "source": [
    "4. Create an Element class with the instance attributes name, symbol, and number. Create a class object with the values \n",
    "'Hydrogen,' 'H,' and 1."
   ]
  },
  {
   "cell_type": "code",
   "execution_count": 35,
   "id": "693690e0",
   "metadata": {},
   "outputs": [],
   "source": [
    "class Element:\n",
    "    def __init__(self, name,symbol,number):\n",
    "        self.name = name\n",
    "        self.symbol = symbol\n",
    "        self.number = number"
   ]
  },
  {
   "cell_type": "code",
   "execution_count": 39,
   "id": "51292a2b",
   "metadata": {},
   "outputs": [
    {
     "data": {
      "text/plain": [
       "<__main__.Element at 0x2519fb531c0>"
      ]
     },
     "execution_count": 39,
     "metadata": {},
     "output_type": "execute_result"
    }
   ],
   "source": [
    "obj = Element('Hydrogen', 'H', 1)\n",
    "obj"
   ]
  },
  {
   "cell_type": "raw",
   "id": "1d62b8a7",
   "metadata": {},
   "source": [
    "5. Make a dictionary with these keys and values: 'name': 'Hydrogen', 'symbol': 'H', 'number': 1. Then, create an object \n",
    "called hydrogen from class Element using this dictionary."
   ]
  },
  {
   "cell_type": "code",
   "execution_count": 40,
   "id": "ccfd6189",
   "metadata": {},
   "outputs": [],
   "source": [
    "d = {\n",
    "    'name' : 'Hydrogen', \n",
    "    'symbol': 'H',\n",
    "    'number' : 1\n",
    "}\n",
    "\n",
    "hydrogen = Element(d['name'], d['symbol'], d['number'])"
   ]
  },
  {
   "cell_type": "raw",
   "id": "39da96f5",
   "metadata": {},
   "source": [
    "6. For the Element class, define a method called dump() that prints the values of the object’s attributes (name, symbol,and\n",
    "   number). Create the hydrogen object from this new definition and use dump() to print its attributes."
   ]
  },
  {
   "cell_type": "code",
   "execution_count": 45,
   "id": "f34db568",
   "metadata": {},
   "outputs": [
    {
     "name": "stdout",
     "output_type": "stream",
     "text": [
      "name=Hydrogen, symbol=H, number=1\n"
     ]
    }
   ],
   "source": [
    "class Element:\n",
    "    def __init__(self, name, symbol, number):\n",
    "        self.name = name\n",
    "        self.symbol = symbol\n",
    "        self.number = number\n",
    "    def dump(self):\n",
    "        print(f'name={self.name}, symbol={self.symbol}, number={self.number}')\n",
    "        \n",
    "hydrogen = Element(d['name'], d['symbol'], d['number'])\n",
    "hydrogen.dump()"
   ]
  },
  {
   "cell_type": "raw",
   "id": "6ed553e6",
   "metadata": {},
   "source": [
    "7. Call print(hydrogen). In the definition of Element, change the name of method dump to __str__, create a new hydrogen \n",
    "object, and call print(hydrogen) again.\n"
   ]
  },
  {
   "cell_type": "code",
   "execution_count": 57,
   "id": "8e8e51ce",
   "metadata": {},
   "outputs": [],
   "source": [
    "class Element:\n",
    "    def __init__(self, name, symbol, number):\n",
    "        self.name = name\n",
    "        self.symbol = symbol\n",
    "        self.number = number\n",
    "    def __str__(self):\n",
    "        return (f'name={self.name}, symbol={self.symbol}, number={self.number}')\n",
    "        "
   ]
  },
  {
   "cell_type": "code",
   "execution_count": 58,
   "id": "0ce7e86b",
   "metadata": {},
   "outputs": [
    {
     "name": "stdout",
     "output_type": "stream",
     "text": [
      "name=Hydrogen, symbol=H, number=1\n"
     ]
    }
   ],
   "source": [
    "hydrogen = Element(d['name'], d['symbol'], d['number'])\n",
    "print(hydrogen)"
   ]
  },
  {
   "cell_type": "raw",
   "id": "b06e5de9",
   "metadata": {},
   "source": [
    "8. Modify Element to make the attributes name, symbol, and number private. Define a getter property for each to return \n",
    "its value."
   ]
  },
  {
   "cell_type": "code",
   "execution_count": 59,
   "id": "c8c2a3c0",
   "metadata": {},
   "outputs": [],
   "source": [
    "class Element:\n",
    "    def __init__(self, name, symbol, number):\n",
    "        self.__name = name\n",
    "        self.__symbol = symbol\n",
    "        self.__number = number\n",
    "    \n",
    "    @property\n",
    "    def name(self):\n",
    "        return self.__name\n",
    "    \n",
    "    @property\n",
    "    def symbol(self):\n",
    "        return self.__symbol\n",
    "    \n",
    "    @property\n",
    "    def number(self):\n",
    "        return self.__number"
   ]
  },
  {
   "cell_type": "code",
   "execution_count": 68,
   "id": "6ffc75d6",
   "metadata": {},
   "outputs": [
    {
     "data": {
      "text/plain": [
       "'Hydrogen'"
      ]
     },
     "execution_count": 68,
     "metadata": {},
     "output_type": "execute_result"
    }
   ],
   "source": [
    "hydrogen = Element('Hydrogen', 'H', 1)\n",
    "hydrogen.name"
   ]
  },
  {
   "cell_type": "code",
   "execution_count": 69,
   "id": "40654409",
   "metadata": {},
   "outputs": [
    {
     "data": {
      "text/plain": [
       "'H'"
      ]
     },
     "execution_count": 69,
     "metadata": {},
     "output_type": "execute_result"
    }
   ],
   "source": [
    "hydrogen.symbol"
   ]
  },
  {
   "cell_type": "code",
   "execution_count": 70,
   "id": "6bc4c50c",
   "metadata": {},
   "outputs": [
    {
     "data": {
      "text/plain": [
       "1"
      ]
     },
     "execution_count": 70,
     "metadata": {},
     "output_type": "execute_result"
    }
   ],
   "source": [
    "hydrogen.number"
   ]
  },
  {
   "cell_type": "raw",
   "id": "19b361bc",
   "metadata": {},
   "source": [
    "9. Define three classes: Bear, Rabbit, and Octothorpe. For each, define only one method: eats(). This should return \n",
    "'berries' (Bear), 'clover' (Rabbit), or 'campers' (Octothorpe). Create one object from each and print what it eats."
   ]
  },
  {
   "cell_type": "code",
   "execution_count": 71,
   "id": "aebfeb65",
   "metadata": {},
   "outputs": [],
   "source": [
    "class Bear:\n",
    "    def eats(self):\n",
    "        return 'Berries'\n",
    "    \n",
    "class Rabbit:\n",
    "    def eats(self):\n",
    "        return 'Clover'\n",
    "    \n",
    "class Octothorpe:\n",
    "    def eats(self):\n",
    "        return 'Campers'"
   ]
  },
  {
   "cell_type": "code",
   "execution_count": 72,
   "id": "54cd46a0",
   "metadata": {},
   "outputs": [
    {
     "data": {
      "text/plain": [
       "'Berries'"
      ]
     },
     "execution_count": 72,
     "metadata": {},
     "output_type": "execute_result"
    }
   ],
   "source": [
    "B = Bear()\n",
    "B.eats()"
   ]
  },
  {
   "cell_type": "code",
   "execution_count": 75,
   "id": "df798ab6",
   "metadata": {},
   "outputs": [
    {
     "data": {
      "text/plain": [
       "'Clover'"
      ]
     },
     "execution_count": 75,
     "metadata": {},
     "output_type": "execute_result"
    }
   ],
   "source": [
    "R = Rabbit()\n",
    "R.eats()"
   ]
  },
  {
   "cell_type": "code",
   "execution_count": 76,
   "id": "49f29d50",
   "metadata": {},
   "outputs": [
    {
     "data": {
      "text/plain": [
       "'Campers'"
      ]
     },
     "execution_count": 76,
     "metadata": {},
     "output_type": "execute_result"
    }
   ],
   "source": [
    "O = Octothorpe()\n",
    "O.eats()"
   ]
  },
  {
   "cell_type": "code",
   "execution_count": null,
   "id": "a5406ee0",
   "metadata": {},
   "outputs": [],
   "source": [
    "10. Define these classes: Laser, Claw, and SmartPhone. Each has only one method: does(). This returns 'disintegrate' \n",
    "(Laser), 'crush' (Claw), or 'ring' (SmartPhone). Then, define the class Robot that has one instance (object) of each of\n",
    "these. Define a does() method for the Robot that prints what its component objects do.\n"
   ]
  },
  {
   "cell_type": "code",
   "execution_count": 81,
   "id": "1e85b901",
   "metadata": {},
   "outputs": [],
   "source": [
    "class Laser:\n",
    "    def does(self):\n",
    "        return 'disintegrate'\n",
    "    \n",
    "class Claw:\n",
    "    def does(self):\n",
    "        return 'crush'\n",
    "    \n",
    "class SmartPhone:\n",
    "    def does(self):\n",
    "        return 'ring'\n",
    "    \n",
    "class Robot:\n",
    "    def __init__(self):\n",
    "        self.Laser = Laser()\n",
    "        self.Claw = Claw()\n",
    "        self.SmartPhone = SmartPhone()\n",
    "        \n",
    "    def does(self):\n",
    "        return f\"laser--> {self.Laser.does()}, Claw --> {self.Claw.does()}, SmartPhone --> {self.SmartPhone.does()}\" \n",
    "    "
   ]
  },
  {
   "cell_type": "code",
   "execution_count": 82,
   "id": "8e1cac70",
   "metadata": {},
   "outputs": [
    {
     "data": {
      "text/plain": [
       "'laser--> disintegrate, Claw --> crush, SmartPhone --> ring'"
      ]
     },
     "execution_count": 82,
     "metadata": {},
     "output_type": "execute_result"
    }
   ],
   "source": [
    "robo = Robot()\n",
    "robo.does()"
   ]
  }
 ],
 "metadata": {
  "kernelspec": {
   "display_name": "Python 3 (ipykernel)",
   "language": "python",
   "name": "python3"
  },
  "language_info": {
   "codemirror_mode": {
    "name": "ipython",
    "version": 3
   },
   "file_extension": ".py",
   "mimetype": "text/x-python",
   "name": "python",
   "nbconvert_exporter": "python",
   "pygments_lexer": "ipython3",
   "version": "3.9.7"
  }
 },
 "nbformat": 4,
 "nbformat_minor": 5
}
